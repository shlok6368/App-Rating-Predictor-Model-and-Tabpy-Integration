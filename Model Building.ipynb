{
 "cells": [
  {
   "cell_type": "markdown",
   "metadata": {
    "toc": true
   },
   "source": [
    "<h1>Table of Contents<span class=\"tocSkip\"></span></h1>\n",
    "<div class=\"toc\"><ul class=\"toc-item\"></ul></div>"
   ]
  },
  {
   "cell_type": "markdown",
   "metadata": {},
   "source": [
    "# Model Training and Deployment"
   ]
  },
  {
   "cell_type": "code",
   "execution_count": 1,
   "metadata": {
    "ExecuteTime": {
     "end_time": "2019-11-19T13:29:28.771334Z",
     "start_time": "2019-11-19T13:29:26.665961Z"
    }
   },
   "outputs": [],
   "source": [
    "import pandas as pd\n",
    "import pandas_profiling\n",
    "from sklearn import preprocessing\n",
    "from sklearn.linear_model import LogisticRegression\n",
    "from sklearn.tree import DecisionTreeClassifier\n",
    "from sklearn.model_selection import train_test_split\n",
    "from sklearn import metrics\n",
    "from sklearn.metrics import accuracy_score,confusion_matrix, f1_score\n",
    "from tabpy_tools.client import Client\n",
    "\n",
    "pd.set_option('display.max_rows', 500)\n",
    "pd.set_option('display.max_columns', 100)\n",
    "pd.set_option('display.width', 700)"
   ]
  },
  {
   "cell_type": "code",
   "execution_count": 2,
   "metadata": {
    "ExecuteTime": {
     "end_time": "2019-11-19T13:29:28.958841Z",
     "start_time": "2019-11-19T13:29:28.788285Z"
    }
   },
   "outputs": [],
   "source": [
    "app_data = pd.read_csv(\"app_data_informative.csv\")"
   ]
  },
  {
   "cell_type": "code",
   "execution_count": 3,
   "metadata": {
    "ExecuteTime": {
     "end_time": "2019-11-19T13:29:29.151680Z",
     "start_time": "2019-11-19T13:29:29.076630Z"
    }
   },
   "outputs": [
    {
     "data": {
      "text/plain": [
       "\"\\ncat = pd.get_dummies(app_data['CATEGORY'], prefix='CATEGORY_',drop_first=True)\\ncon_rat = pd.get_dummies(app_data['CONTENT_RATING'], prefix='CONTENT_',drop_first=True)\\napp_data['EDITORS_CHOICE'] = pd.get_dummies(app_data['EDITORS_CHOICE'])\\napp_data['FREE'] = pd.get_dummies(app_data['FREE'])\\napp_data['IAP'] = pd.get_dummies(app_data['IAP'])\\n\""
      ]
     },
     "execution_count": 3,
     "metadata": {},
     "output_type": "execute_result"
    }
   ],
   "source": [
    "#Encode the Rating_Score into a categorical variable so that we can build a classification model on it \n",
    "#(less than 2,2-4,4-4.5,above 4.5)\n",
    "app_data.loc[app_data['RATING_SCORE'] <= 4.5,'RATING_SCORE_CODED'] = 'BAD'\n",
    "app_data.loc[(app_data['RATING_SCORE'] > 4.5) & (app_data['RATING_SCORE'] <= 5),'RATING_SCORE_CODED'] = 'GOOD'\n",
    "\n",
    "#Encoding the categorical features so that they can be used as model input\n",
    "le_cat = preprocessing.LabelEncoder()\n",
    "app_data['CATEGORY'] = le_cat.fit_transform(app_data['CATEGORY'])\n",
    "\n",
    "le_con_rat = preprocessing.LabelEncoder()\n",
    "app_data['CONTENT_RATING'] = le_con_rat.fit_transform(app_data['CONTENT_RATING'])\n",
    "\n",
    "le_ec = preprocessing.LabelEncoder()\n",
    "app_data['EDITORS_CHOICE'] = le_ec.fit_transform(app_data['EDITORS_CHOICE'])\n",
    "\n",
    "le_free = preprocessing.LabelEncoder()\n",
    "app_data['FREE'] = le_free.fit_transform(app_data['FREE'])\n",
    "\n",
    "le_iap = preprocessing.LabelEncoder()\n",
    "app_data['IAP'] = le_iap.fit_transform(app_data['IAP'])\n",
    "\n",
    "\"\"\"\n",
    "cat = pd.get_dummies(app_data['CATEGORY'], prefix='CATEGORY_',drop_first=True)\n",
    "con_rat = pd.get_dummies(app_data['CONTENT_RATING'], prefix='CONTENT_',drop_first=True)\n",
    "app_data['EDITORS_CHOICE'] = pd.get_dummies(app_data['EDITORS_CHOICE'])\n",
    "app_data['FREE'] = pd.get_dummies(app_data['FREE'])\n",
    "app_data['IAP'] = pd.get_dummies(app_data['IAP'])\n",
    "\"\"\"\n"
   ]
  },
  {
   "cell_type": "code",
   "execution_count": 4,
   "metadata": {
    "ExecuteTime": {
     "end_time": "2019-11-19T13:29:29.287754Z",
     "start_time": "2019-11-19T13:29:29.256327Z"
    }
   },
   "outputs": [
    {
     "data": {
      "text/plain": [
       "Unnamed: 0                  0.008474\n",
       "CATEGORY                    0.013902\n",
       "CONTENT_RATING              0.054038\n",
       "EDITORS_CHOICE              0.075222\n",
       "FREE                       -0.072216\n",
       "IAP                         0.142646\n",
       "INSTALLS                    0.102282\n",
       "PRICE                       0.026392\n",
       "REQUIRED_ANDROID_VERSION   -0.059023\n",
       "NUMBER_REVIEWS              0.107812\n",
       "RATING_SCORE                1.000000\n",
       "SIZE                        0.063009\n",
       "Name: RATING_SCORE, dtype: float64"
      ]
     },
     "execution_count": 4,
     "metadata": {},
     "output_type": "execute_result"
    }
   ],
   "source": [
    "app_data.corr()['RATING_SCORE']"
   ]
  },
  {
   "cell_type": "code",
   "execution_count": 5,
   "metadata": {
    "ExecuteTime": {
     "end_time": "2019-11-19T13:29:29.407490Z",
     "start_time": "2019-11-19T13:29:29.389446Z"
    }
   },
   "outputs": [],
   "source": [
    "app_data = app_data.drop(['Unnamed: 0','RATING_SCORE','DEVELOPER','TITLE','LAST_UPDATED'], axis = 1)\n",
    "\n",
    "# app_data = pd.concat([app_data,cat, con_rat],axis=1)\n",
    "#app_data = app_data.drop(['Unnamed: 0','RATING_SCORE','CATEGORY','CONTENT_RATING','DEVELOPER','TITLE','LAST_UPDATED'], axis = 1)"
   ]
  },
  {
   "cell_type": "code",
   "execution_count": 6,
   "metadata": {
    "ExecuteTime": {
     "end_time": "2019-11-19T13:29:29.496256Z",
     "start_time": "2019-11-19T13:29:29.489275Z"
    }
   },
   "outputs": [
    {
     "data": {
      "text/plain": [
       "Index(['CATEGORY', 'CONTENT_RATING', 'EDITORS_CHOICE', 'FREE', 'IAP', 'INSTALLS', 'PRICE', 'REQUIRED_ANDROID_VERSION', 'NUMBER_REVIEWS', 'SIZE', 'RATING_SCORE_CODED'], dtype='object')"
      ]
     },
     "execution_count": 6,
     "metadata": {},
     "output_type": "execute_result"
    }
   ],
   "source": [
    "app_data.columns"
   ]
  },
  {
   "cell_type": "code",
   "execution_count": 7,
   "metadata": {
    "ExecuteTime": {
     "end_time": "2019-11-19T13:29:29.580029Z",
     "start_time": "2019-11-19T13:29:29.574044Z"
    }
   },
   "outputs": [],
   "source": [
    "# pandas_profiling.ProfileReport(app_data)"
   ]
  },
  {
   "cell_type": "code",
   "execution_count": 8,
   "metadata": {
    "ExecuteTime": {
     "end_time": "2019-11-19T13:29:30.408318Z",
     "start_time": "2019-11-19T13:29:30.381389Z"
    }
   },
   "outputs": [],
   "source": [
    "#Split into two variables, One for explanotory variable and other for the explained variable\n",
    "X = app_data.drop('RATING_SCORE_CODED',axis=1)\n",
    "y = app_data['RATING_SCORE_CODED']\n",
    "\n",
    "#Split into training and test sets\n",
    "from sklearn.model_selection import train_test_split\n",
    "X_train, X_test, y_train, y_test = train_test_split(X, y, test_size = 0.8, random_state=12)"
   ]
  },
  {
   "cell_type": "code",
   "execution_count": 9,
   "metadata": {
    "ExecuteTime": {
     "end_time": "2019-11-19T13:29:31.212138Z",
     "start_time": "2019-11-19T13:29:31.161274Z"
    }
   },
   "outputs": [
    {
     "name": "stderr",
     "output_type": "stream",
     "text": [
      "C:\\Users\\admin\\Anaconda3\\lib\\site-packages\\sklearn\\preprocessing\\data.py:645: DataConversionWarning: Data with input dtype int32, int64, float64 were all converted to float64 by StandardScaler.\n",
      "  return self.partial_fit(X, y)\n",
      "C:\\Users\\admin\\Anaconda3\\lib\\site-packages\\sklearn\\base.py:464: DataConversionWarning: Data with input dtype int32, int64, float64 were all converted to float64 by StandardScaler.\n",
      "  return self.fit(X, **fit_params).transform(X)\n",
      "C:\\Users\\admin\\Anaconda3\\lib\\site-packages\\ipykernel_launcher.py:6: DataConversionWarning: Data with input dtype int32, int64, float64 were all converted to float64 by StandardScaler.\n",
      "  \n"
     ]
    }
   ],
   "source": [
    "#Normalize/ Scale the explanatory variable values\n",
    "from sklearn.preprocessing import StandardScaler\n",
    "\n",
    "sc=StandardScaler()\n",
    "X_train=sc.fit_transform(X_train)\n",
    "X_test=sc.transform(X_test)"
   ]
  },
  {
   "cell_type": "code",
   "execution_count": 10,
   "metadata": {
    "ExecuteTime": {
     "end_time": "2019-11-19T13:29:34.870089Z",
     "start_time": "2019-11-19T13:29:34.593687Z"
    }
   },
   "outputs": [
    {
     "name": "stderr",
     "output_type": "stream",
     "text": [
      "C:\\Users\\admin\\Anaconda3\\lib\\site-packages\\sklearn\\linear_model\\logistic.py:433: FutureWarning: Default solver will be changed to 'lbfgs' in 0.22. Specify a solver to silence this warning.\n",
      "  FutureWarning)\n"
     ]
    },
    {
     "data": {
      "text/plain": [
       "0.7669976598570616"
      ]
     },
     "execution_count": 10,
     "metadata": {},
     "output_type": "execute_result"
    }
   ],
   "source": [
    "#LogisticRegression\n",
    "lr=LogisticRegression(random_state=123)\n",
    "lr.fit(X_train,y_train)\n",
    "y_pred=lr.predict(X_test)\n",
    "cm=confusion_matrix(y_test,y_pred)\n",
    "accuracy_score(y_test, y_pred)"
   ]
  },
  {
   "cell_type": "code",
   "execution_count": 11,
   "metadata": {
    "ExecuteTime": {
     "end_time": "2019-11-19T13:29:37.167107Z",
     "start_time": "2019-11-19T13:29:36.915915Z"
    }
   },
   "outputs": [
    {
     "data": {
      "text/plain": [
       "0.7008095629624944"
      ]
     },
     "execution_count": 11,
     "metadata": {},
     "output_type": "execute_result"
    }
   ],
   "source": [
    "#Decision Tree\n",
    "dt=DecisionTreeClassifier(random_state=123)\n",
    "dt.fit(X_train,y_train)\n",
    "y_pred=dt.predict(X_test)\n",
    "cm=confusion_matrix(y_test,y_pred)\n",
    "accuracy_score(y_test, y_pred)"
   ]
  },
  {
   "cell_type": "code",
   "execution_count": 12,
   "metadata": {
    "ExecuteTime": {
     "end_time": "2019-11-19T13:29:40.052997Z",
     "start_time": "2019-11-19T13:29:40.047014Z"
    }
   },
   "outputs": [
    {
     "name": "stdout",
     "output_type": "stream",
     "text": [
      "[[ 0.03939434 -0.03836649  0.03618084 -0.29252112  0.13488642 -0.34493983\n",
      "   0.02336343  0.09346886  0.29871209  0.01190262]]\n"
     ]
    }
   ],
   "source": [
    "print(lr.coef_)"
   ]
  },
  {
   "cell_type": "code",
   "execution_count": 13,
   "metadata": {
    "ExecuteTime": {
     "end_time": "2019-11-19T13:29:55.847519Z",
     "start_time": "2019-11-19T13:29:55.838508Z"
    }
   },
   "outputs": [],
   "source": [
    "def app_rating_predictor( _arg1, _arg2, _arg3, _arg4, _arg5, _arg6, _arg7, _arg8, _arg9, _arg10):\n",
    "    import pandas as pd\n",
    "    \n",
    "    #Get the new app's data in a dictionary\n",
    "    row = {'CATEGORY': _arg1,\n",
    "           'CONTENT_RATING': _arg2,\n",
    "           'EDITORS_CHOICE': _arg3,\n",
    "           'FREE': _arg4,\n",
    "           'IAP': _arg5, \n",
    "           'INSTALLS': _arg6,\n",
    "           'PRICE': _arg7, \n",
    "           'REQUIRED_ANDROID_VERSION': _arg8,\n",
    "           'NUMBER_REVIEWS': _arg9,\n",
    "           'SIZE': _arg10}\n",
    "    \n",
    "    #Convert it into a dataframe\n",
    "    new_app_data = pd.DataFrame(data = row,index=[0])\n",
    "    \n",
    "    #Apply the label encodings\n",
    "    new_app_data['CATEGORY'] = le_cat.fit_transform(new_app_data['CATEGORY'])\n",
    "    new_app_data['CONTENT_RATING'] = le_con_rat.fit_transform(new_app_data['CONTENT_RATING'])\n",
    "    new_app_data['EDITORS_CHOICE'] = le_ec.fit_transform(new_app_data['EDITORS_CHOICE'])\n",
    "    new_app_data['FREE'] = le_free.fit_transform(new_app_data['FREE'])\n",
    "    new_app_data['IAP'] = le_iap.fit_transform(new_app_data['IAP'])\n",
    "    \n",
    "    new_app_data = sc.transform(new_app_data)\n",
    "    pred_rating = lr.predict_proba(new_app_data)\n",
    "    return [rating[1] for rating in pred_rating]"
   ]
  },
  {
   "cell_type": "code",
   "execution_count": 14,
   "metadata": {
    "ExecuteTime": {
     "end_time": "2019-11-19T13:29:58.248856Z",
     "start_time": "2019-11-19T13:29:58.230907Z"
    }
   },
   "outputs": [
    {
     "name": "stderr",
     "output_type": "stream",
     "text": [
      "C:\\Users\\admin\\Anaconda3\\lib\\site-packages\\ipykernel_launcher.py:26: DataConversionWarning: Data with input dtype int32, int64, float64 were all converted to float64 by StandardScaler.\n"
     ]
    },
    {
     "data": {
      "text/plain": [
       "array([[0.49112104, 0.50887896]])"
      ]
     },
     "execution_count": 14,
     "metadata": {},
     "output_type": "execute_result"
    }
   ],
   "source": [
    "app_rating_predictor('COMMUNICATION','Mature 17+',False,False,True,1000,0.0,0.0,423111,4.1)"
   ]
  },
  {
   "cell_type": "markdown",
   "metadata": {},
   "source": [
    "run this in conda prompt \n",
    "1. cd C:\\Users\\admin\\Anaconda3\\Lib\\site-packages\\TabPy-0.6.1\n",
    "2. startup.cmd\n"
   ]
  },
  {
   "cell_type": "code",
   "execution_count": 17,
   "metadata": {
    "ExecuteTime": {
     "end_time": "2019-11-18T15:00:04.496295Z",
     "start_time": "2019-11-18T15:00:04.488613Z"
    }
   },
   "outputs": [],
   "source": [
    "client = Client('http://localhost:9004/')"
   ]
  },
  {
   "cell_type": "code",
   "execution_count": 18,
   "metadata": {
    "ExecuteTime": {
     "end_time": "2019-11-18T15:00:04.883922Z",
     "start_time": "2019-11-18T15:00:04.752729Z"
    }
   },
   "outputs": [],
   "source": [
    "client.deploy('app_rating_predictor', app_rating_predictor,'Test', override = True)"
   ]
  },
  {
   "cell_type": "code",
   "execution_count": null,
   "metadata": {},
   "outputs": [],
   "source": []
  }
 ],
 "metadata": {
  "kernelspec": {
   "display_name": "Python 3",
   "language": "python",
   "name": "python3"
  },
  "language_info": {
   "codemirror_mode": {
    "name": "ipython",
    "version": 3
   },
   "file_extension": ".py",
   "mimetype": "text/x-python",
   "name": "python",
   "nbconvert_exporter": "python",
   "pygments_lexer": "ipython3",
   "version": "3.7.3"
  },
  "toc": {
   "base_numbering": 1,
   "nav_menu": {},
   "number_sections": true,
   "sideBar": true,
   "skip_h1_title": true,
   "title_cell": "Table of Contents",
   "title_sidebar": "Contents",
   "toc_cell": true,
   "toc_position": {},
   "toc_section_display": true,
   "toc_window_display": true
  },
  "varInspector": {
   "cols": {
    "lenName": 16,
    "lenType": 16,
    "lenVar": 40
   },
   "kernels_config": {
    "python": {
     "delete_cmd_postfix": "",
     "delete_cmd_prefix": "del ",
     "library": "var_list.py",
     "varRefreshCmd": "print(var_dic_list())"
    },
    "r": {
     "delete_cmd_postfix": ") ",
     "delete_cmd_prefix": "rm(",
     "library": "var_list.r",
     "varRefreshCmd": "cat(var_dic_list()) "
    }
   },
   "types_to_exclude": [
    "module",
    "function",
    "builtin_function_or_method",
    "instance",
    "_Feature"
   ],
   "window_display": false
  }
 },
 "nbformat": 4,
 "nbformat_minor": 2
}
